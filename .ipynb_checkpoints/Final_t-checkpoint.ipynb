{
 "cells": [
  {
   "cell_type": "code",
   "execution_count": 32,
   "id": "4a9362cf-bd5d-4b04-a192-e2fc9d7824bd",
   "metadata": {},
   "outputs": [],
   "source": [
    "import pandas as pd\n",
    "import numpy as np\n",
    "\n",
    "import matplotlib.pyplot as plt\n",
    "import seaborn as sns\n",
    "\n",
    "from sklearn.model_selection import train_test_split\n",
    "from sklearn.preprocessing import OneHotEncoder\n",
    "from sklearn.neighbors import KNeighborsRegressor\n",
    "from sklearn.neighbors import KNeighborsClassifier\n",
    "from sklearn.linear_model import LinearRegression\n",
    "from sklearn.tree import DecisionTreeRegressor\n",
    "from sklearn.ensemble import BaggingRegressor, RandomForestRegressor,AdaBoostRegressor, GradientBoostingRegressor\n",
    "\n",
    "from sklearn.model_selection import GridSearchCV\n",
    "from sklearn.model_selection import RandomizedSearchCV\n",
    "\n",
    "from sklearn.preprocessing import MinMaxScaler, StandardScaler\n",
    "from sklearn.metrics import r2_score, mean_absolute_error, mean_squared_error"
   ]
  },
  {
   "cell_type": "code",
   "execution_count": 2,
   "id": "7aeac1b0-03e9-4f46-9805-e3e99e695104",
   "metadata": {},
   "outputs": [],
   "source": [
    "#import the dataframe\n",
    "\n",
    "df = pd.read_csv(\"A_year_of_pizza_sales_from_a_pizza_place_872_68.csv\")"
   ]
  },
  {
   "cell_type": "code",
   "execution_count": 3,
   "id": "a3ce5aa8-8e0b-4dc6-ba9a-14c4757ad569",
   "metadata": {},
   "outputs": [
    {
     "data": {
      "text/plain": [
       "Unnamed: 0    0\n",
       "X             0\n",
       "id            0\n",
       "date          0\n",
       "time          0\n",
       "name          0\n",
       "size          0\n",
       "type          0\n",
       "price         0\n",
       "dtype: int64"
      ]
     },
     "execution_count": 3,
     "metadata": {},
     "output_type": "execute_result"
    }
   ],
   "source": [
    "#checking null values\n",
    "\n",
    "df.isnull().sum()"
   ]
  },
  {
   "cell_type": "code",
   "execution_count": 4,
   "id": "9a4e8d6c-b169-4e77-adf2-230e9f0b7bf0",
   "metadata": {},
   "outputs": [],
   "source": [
    "#dropping not useful columns\n",
    "\n",
    "df = df.drop( columns = [\"Unnamed: 0\", \"X\"])"
   ]
  },
  {
   "cell_type": "code",
   "execution_count": 5,
   "id": "9475bbbe-7c72-43cd-81b5-446d55a7255e",
   "metadata": {},
   "outputs": [
    {
     "data": {
      "text/html": [
       "<div>\n",
       "<style scoped>\n",
       "    .dataframe tbody tr th:only-of-type {\n",
       "        vertical-align: middle;\n",
       "    }\n",
       "\n",
       "    .dataframe tbody tr th {\n",
       "        vertical-align: top;\n",
       "    }\n",
       "\n",
       "    .dataframe thead th {\n",
       "        text-align: right;\n",
       "    }\n",
       "</style>\n",
       "<table border=\"1\" class=\"dataframe\">\n",
       "  <thead>\n",
       "    <tr style=\"text-align: right;\">\n",
       "      <th></th>\n",
       "      <th>id</th>\n",
       "      <th>date</th>\n",
       "      <th>time</th>\n",
       "      <th>name</th>\n",
       "      <th>size</th>\n",
       "      <th>type</th>\n",
       "      <th>price</th>\n",
       "    </tr>\n",
       "  </thead>\n",
       "  <tbody>\n",
       "    <tr>\n",
       "      <th>0</th>\n",
       "      <td>2015-000001</td>\n",
       "      <td>2015-01-01</td>\n",
       "      <td>11:38:36</td>\n",
       "      <td>hawaiian</td>\n",
       "      <td>M</td>\n",
       "      <td>classic</td>\n",
       "      <td>13.25</td>\n",
       "    </tr>\n",
       "    <tr>\n",
       "      <th>1</th>\n",
       "      <td>2015-000002</td>\n",
       "      <td>2015-01-01</td>\n",
       "      <td>11:57:40</td>\n",
       "      <td>classic_dlx</td>\n",
       "      <td>M</td>\n",
       "      <td>classic</td>\n",
       "      <td>16.00</td>\n",
       "    </tr>\n",
       "    <tr>\n",
       "      <th>2</th>\n",
       "      <td>2015-000002</td>\n",
       "      <td>2015-01-01</td>\n",
       "      <td>11:57:40</td>\n",
       "      <td>mexicana</td>\n",
       "      <td>M</td>\n",
       "      <td>veggie</td>\n",
       "      <td>16.00</td>\n",
       "    </tr>\n",
       "    <tr>\n",
       "      <th>3</th>\n",
       "      <td>2015-000002</td>\n",
       "      <td>2015-01-01</td>\n",
       "      <td>11:57:40</td>\n",
       "      <td>thai_ckn</td>\n",
       "      <td>L</td>\n",
       "      <td>chicken</td>\n",
       "      <td>20.75</td>\n",
       "    </tr>\n",
       "    <tr>\n",
       "      <th>4</th>\n",
       "      <td>2015-000002</td>\n",
       "      <td>2015-01-01</td>\n",
       "      <td>11:57:40</td>\n",
       "      <td>five_cheese</td>\n",
       "      <td>L</td>\n",
       "      <td>veggie</td>\n",
       "      <td>18.50</td>\n",
       "    </tr>\n",
       "    <tr>\n",
       "      <th>...</th>\n",
       "      <td>...</td>\n",
       "      <td>...</td>\n",
       "      <td>...</td>\n",
       "      <td>...</td>\n",
       "      <td>...</td>\n",
       "      <td>...</td>\n",
       "      <td>...</td>\n",
       "    </tr>\n",
       "    <tr>\n",
       "      <th>49569</th>\n",
       "      <td>2015-021348</td>\n",
       "      <td>2015-12-31</td>\n",
       "      <td>21:23:10</td>\n",
       "      <td>four_cheese</td>\n",
       "      <td>L</td>\n",
       "      <td>veggie</td>\n",
       "      <td>17.95</td>\n",
       "    </tr>\n",
       "    <tr>\n",
       "      <th>49570</th>\n",
       "      <td>2015-021348</td>\n",
       "      <td>2015-12-31</td>\n",
       "      <td>21:23:10</td>\n",
       "      <td>napolitana</td>\n",
       "      <td>S</td>\n",
       "      <td>classic</td>\n",
       "      <td>12.00</td>\n",
       "    </tr>\n",
       "    <tr>\n",
       "      <th>49571</th>\n",
       "      <td>2015-021348</td>\n",
       "      <td>2015-12-31</td>\n",
       "      <td>21:23:10</td>\n",
       "      <td>ckn_alfredo</td>\n",
       "      <td>M</td>\n",
       "      <td>chicken</td>\n",
       "      <td>16.75</td>\n",
       "    </tr>\n",
       "    <tr>\n",
       "      <th>49572</th>\n",
       "      <td>2015-021349</td>\n",
       "      <td>2015-12-31</td>\n",
       "      <td>22:09:54</td>\n",
       "      <td>mexicana</td>\n",
       "      <td>L</td>\n",
       "      <td>veggie</td>\n",
       "      <td>20.25</td>\n",
       "    </tr>\n",
       "    <tr>\n",
       "      <th>49573</th>\n",
       "      <td>2015-021350</td>\n",
       "      <td>2015-12-31</td>\n",
       "      <td>23:02:05</td>\n",
       "      <td>bbq_ckn</td>\n",
       "      <td>S</td>\n",
       "      <td>chicken</td>\n",
       "      <td>12.75</td>\n",
       "    </tr>\n",
       "  </tbody>\n",
       "</table>\n",
       "<p>49574 rows × 7 columns</p>\n",
       "</div>"
      ],
      "text/plain": [
       "                id        date      time         name size     type  price\n",
       "0      2015-000001  2015-01-01  11:38:36     hawaiian    M  classic  13.25\n",
       "1      2015-000002  2015-01-01  11:57:40  classic_dlx    M  classic  16.00\n",
       "2      2015-000002  2015-01-01  11:57:40     mexicana    M   veggie  16.00\n",
       "3      2015-000002  2015-01-01  11:57:40     thai_ckn    L  chicken  20.75\n",
       "4      2015-000002  2015-01-01  11:57:40  five_cheese    L   veggie  18.50\n",
       "...            ...         ...       ...          ...  ...      ...    ...\n",
       "49569  2015-021348  2015-12-31  21:23:10  four_cheese    L   veggie  17.95\n",
       "49570  2015-021348  2015-12-31  21:23:10   napolitana    S  classic  12.00\n",
       "49571  2015-021348  2015-12-31  21:23:10  ckn_alfredo    M  chicken  16.75\n",
       "49572  2015-021349  2015-12-31  22:09:54     mexicana    L   veggie  20.25\n",
       "49573  2015-021350  2015-12-31  23:02:05      bbq_ckn    S  chicken  12.75\n",
       "\n",
       "[49574 rows x 7 columns]"
      ]
     },
     "execution_count": 5,
     "metadata": {},
     "output_type": "execute_result"
    }
   ],
   "source": [
    "df"
   ]
  },
  {
   "cell_type": "code",
   "execution_count": 6,
   "id": "f86180cb-79f0-496f-9b7b-686b4454377e",
   "metadata": {},
   "outputs": [],
   "source": [
    "df[\"time\"] = pd.to_datetime(df['date'] + ' ' + df['time'])\n",
    "\n",
    "df = df.drop(columns = [\"date\"])\n",
    "\n",
    "df[\"weekday nº\"] = df['time'].dt.weekday"
   ]
  },
  {
   "cell_type": "code",
   "execution_count": 22,
   "id": "90c62915-e904-41ac-8afd-2b85fedd0725",
   "metadata": {},
   "outputs": [],
   "source": [
    "df2 = df.copy()"
   ]
  },
  {
   "cell_type": "code",
   "execution_count": 8,
   "id": "025b8f70-8824-4d8f-bf86-be913a676356",
   "metadata": {},
   "outputs": [],
   "source": [
    "#Create a dictionary that converts the possible result in the \"name\" column into an defined integer\n",
    "\n",
    "dict_name = {\"bbq_ckn\": 1, \"big_meat\": 2, \"brie_carre\": 3, \"calabrese\": 4, \"cali_ckn\": 5, \"ckn_alfredo\": 6, \"ckn_pesto\": 7, \"classic_dlx\": 8, \"five_cheese\": 9, \"four_cheese\": 10,\n",
    "             \"green_garden\": 11, \"hawaiian\": 12, \"ital_cpcllo\": 13, \"ital_supr\": 14, \"ital_veggie\": 15, \"mediterraneo\": 16, \"mexicana\": 17, \"napolitana\": 18, \"pep_msh_pep\": 19,\n",
    "             \"pepperoni\": 20, \"peppr_salami\": 21, \"prsc_argla\": 22, \"sicilian\": 23, \"soppressata\": 24, \"southw_ckn\": 25, \"spicy_ital\": 26, \"spin_pesto\": 27, \"spinach_fet\": 28,\n",
    "             \"spinach_supr\": 29, \"thai_ckn\": 30, \"the_greek\": 31, \"veggie_veg\": 32}\n",
    "\n",
    "#use the \"map\" function to create the new column filtering the values in the name column\n",
    "\n",
    "df2[\"name_number\"] = df2[\"name\"].map(dict_name)\n",
    "\n",
    "#Do the same proccess with the size and type column\n",
    "\n",
    "dict_size = {\"S\": 1, \"M\": 2, \"L\": 3, \"XL\": 4, \"XXL\": 5}\n",
    "\n",
    "df2[\"size_to_number\"] = df2[\"size\"].map(dict_size)\n",
    "\n",
    "#Repeat the process in the type column\n",
    "\n",
    "dict_type = {\"classic\": 1, \"veggie\": 2, \"chicken\": 3, \"supreme\": 4}\n",
    "\n",
    "df2[\"type_to_number\"] = df2[\"type\"].map(dict_type)"
   ]
  },
  {
   "cell_type": "code",
   "execution_count": 9,
   "id": "560c3d4f-f8e6-460d-b141-530c6b2a2181",
   "metadata": {},
   "outputs": [],
   "source": [
    "df2 = df2.drop(columns = [\"id\", \"time\"])"
   ]
  },
  {
   "cell_type": "code",
   "execution_count": 10,
   "id": "7849d07e-98d1-4932-8e00-cec1ede3244f",
   "metadata": {},
   "outputs": [],
   "source": [
    "features = df2.drop(columns = [\"name_number\",\"weekday nº\", \"name\", \"size\", \"type\"])\n",
    "target = df2[\"name_number\"]\n",
    "df_num = df2.drop(columns = [\"name\", \"size\", \"type\"])"
   ]
  },
  {
   "cell_type": "code",
   "execution_count": 11,
   "id": "a2b7ba11-9fc1-4408-adfa-99a3fa8b6403",
   "metadata": {},
   "outputs": [],
   "source": [
    "#TTS\n",
    "\n",
    "X_train, X_test, y_train, y_test = train_test_split(features, target, test_size = 0.20, random_state=10)"
   ]
  },
  {
   "cell_type": "code",
   "execution_count": 12,
   "id": "774dd9d4-1cc2-458a-8831-93e5773bd4e0",
   "metadata": {},
   "outputs": [],
   "source": [
    "#normalization of the values in the new columns\n",
    "\n",
    "normalizer = MinMaxScaler()\n",
    "\n",
    "normalizer.fit(X_train)\n",
    "\n",
    "X_train_norm = normalizer.transform(X_train)\n",
    "\n",
    "X_test_norm = normalizer.transform(X_test)"
   ]
  },
  {
   "cell_type": "code",
   "execution_count": 13,
   "id": "d7ca1bb7-c1e3-4f51-9112-cb7e89dfba7d",
   "metadata": {},
   "outputs": [],
   "source": [
    "X_train_norm = pd.DataFrame(X_train_norm, columns = X_train.columns)\n",
    "\n",
    "X_test_norm = pd.DataFrame(X_test_norm, columns = X_test.columns)"
   ]
  },
  {
   "cell_type": "code",
   "execution_count": 14,
   "id": "d41fa682-b380-48cb-8c06-82002483780a",
   "metadata": {},
   "outputs": [
    {
     "name": "stdout",
     "output_type": "stream",
     "text": [
      "The R2 of the model on the TEST set is:  0.3204\n"
     ]
    }
   ],
   "source": [
    "#training KNN\n",
    "\n",
    "knn = KNeighborsRegressor(n_neighbors=10)\n",
    "\n",
    "knn.fit(X_train_norm, y_train)\n",
    "\n",
    "print(f\"The R2 of the model on the TEST set is: {knn.score(X_test_norm, y_test): .4f}\")"
   ]
  },
  {
   "cell_type": "code",
   "execution_count": 15,
   "id": "4e1f0021-6b99-436d-9d99-3ab300dd9c7c",
   "metadata": {},
   "outputs": [
    {
     "data": {
      "image/png": "[encoded data removed]",
      "text/plain": [
       "<Figure size 800x800 with 2 Axes>"
      ]
     },
     "metadata": {},
     "output_type": "display_data"
    }
   ],
   "source": [
    "#correlation headmap\n",
    "\n",
    "corr=np.abs(df_num.corr())\n",
    "\n",
    "#Set up mask for triangle representation\n",
    "mask = np.zeros_like(corr, dtype=bool)\n",
    "mask[np.triu_indices_from(mask)] = True\n",
    "\n",
    "# Set up the matplotlib figure\n",
    "f, ax = plt.subplots(figsize=(8, 8))\n",
    "# Generate a custom diverging colormap\n",
    "cmap = sns.light_palette(\"orange\", as_cmap=True)\n",
    "# Draw the heatmap with the mask and correct aspect ratio\n",
    "sns.heatmap(corr, mask=mask,  vmax=1,square=True, linewidths=.5, cbar_kws={\"shrink\": .5},annot = corr)\n",
    "\n",
    "plt.show()"
   ]
  },
  {
   "cell_type": "code",
   "execution_count": 16,
   "id": "e52bf7ef-017d-4bdc-9134-77c65d0796cc",
   "metadata": {},
   "outputs": [
    {
     "name": "stdout",
     "output_type": "stream",
     "text": [
      "MAE  7.79\n",
      "RMSE,  9.14\n",
      "R2 score,  0.04\n"
     ]
    }
   ],
   "source": [
    "#linear regression model\n",
    "\n",
    "lin_reg = LinearRegression()\n",
    "\n",
    "lin_reg.fit(X_train_norm, y_train)\n",
    "\n",
    "pred = lin_reg.predict(X_test_norm)\n",
    "\n",
    "print(f\"MAE {mean_absolute_error(pred, y_test): .2f}\")\n",
    "print(f\"RMSE, {mean_squared_error(pred, y_test, squared=False): .2f}\")\n",
    "print(f\"R2 score, {lin_reg.score(X_test_norm, y_test): .2f}\")"
   ]
  },
  {
   "cell_type": "code",
   "execution_count": 17,
   "id": "c0c190cc-9a40-4d2d-a9f3-305af813964a",
   "metadata": {},
   "outputs": [
    {
     "data": {
      "image/png": "[encoded data removed]",
      "text/plain": [
       "<Figure size 640x480 with 1 Axes>"
      ]
     },
     "metadata": {},
     "output_type": "display_data"
    }
   ],
   "source": [
    "sns.scatterplot(x=y_test, y=pred);"
   ]
  },
  {
   "cell_type": "code",
   "execution_count": 18,
   "id": "c5242dc3-7325-412a-a315-d8133fcd2eab",
   "metadata": {},
   "outputs": [
    {
     "name": "stdout",
     "output_type": "stream",
     "text": [
      "MAE 5.509213033166151\n",
      "RMSE 7.4659299124454295\n",
      "R2 score 0.3602456474497475\n"
     ]
    }
   ],
   "source": [
    "#bagging and pasting\n",
    "\n",
    "bagging_reg = BaggingRegressor(DecisionTreeRegressor(max_depth=10),\n",
    "                               n_estimators=40,\n",
    "                               max_samples = 400)\n",
    "\n",
    "bagging_reg.fit(X_train_norm, y_train)\n",
    "\n",
    "pred = bagging_reg.predict(X_test_norm)\n",
    "\n",
    "print(\"MAE\", mean_absolute_error(pred, y_test))\n",
    "print(\"RMSE\", mean_squared_error(pred, y_test, squared=False))\n",
    "print(\"R2 score\", bagging_reg.score(X_test_norm, y_test))"
   ]
  },
  {
   "cell_type": "code",
   "execution_count": 19,
   "id": "6b02c54e-3b95-4da5-87e2-b84550bd592a",
   "metadata": {},
   "outputs": [
    {
     "data": {
      "image/png": "[encoded data removed]",
      "text/plain": [
       "<Figure size 640x480 with 1 Axes>"
      ]
     },
     "metadata": {},
     "output_type": "display_data"
    }
   ],
   "source": [
    "sns.scatterplot(x=y_test, y=pred);"
   ]
  },
  {
   "cell_type": "code",
   "execution_count": 20,
   "id": "213688f4-b9ab-4b0b-9349-34a7f8ff0bdb",
   "metadata": {},
   "outputs": [
    {
     "name": "stdout",
     "output_type": "stream",
     "text": [
      "MAE 5.431642283066874\n",
      "RMSE 7.4582511759543895\n",
      "R2 score 0.3615609501340731\n"
     ]
    }
   ],
   "source": [
    "#Random forest method\n",
    "\n",
    "forest = RandomForestRegressor(n_estimators=40,\n",
    "                             max_depth=10)\n",
    "\n",
    "forest.fit(X_train_norm, y_train)\n",
    "\n",
    "pred = forest.predict(X_test_norm)\n",
    "\n",
    "print(\"MAE\", mean_absolute_error(pred, y_test))\n",
    "print(\"RMSE\", mean_squared_error(pred, y_test, squared=False))\n",
    "print(\"R2 score\", forest.score(X_test_norm, y_test))"
   ]
  },
  {
   "cell_type": "code",
   "execution_count": 263,
   "id": "4c43b5c2-bf07-49fe-b95a-d117a3b79f4d",
   "metadata": {},
   "outputs": [
    {
     "data": {
      "text/html": [
       "<div>\n",
       "<style scoped>\n",
       "    .dataframe tbody tr th:only-of-type {\n",
       "        vertical-align: middle;\n",
       "    }\n",
       "\n",
       "    .dataframe tbody tr th {\n",
       "        vertical-align: top;\n",
       "    }\n",
       "\n",
       "    .dataframe thead th {\n",
       "        text-align: right;\n",
       "    }\n",
       "</style>\n",
       "<table border=\"1\" class=\"dataframe\">\n",
       "  <thead>\n",
       "    <tr style=\"text-align: right;\">\n",
       "      <th></th>\n",
       "      <th>size_to_number</th>\n",
       "      <th>a</th>\n",
       "    </tr>\n",
       "  </thead>\n",
       "  <tbody>\n",
       "    <tr>\n",
       "      <th>0</th>\n",
       "      <td>2</td>\n",
       "      <td>2.0</td>\n",
       "    </tr>\n",
       "    <tr>\n",
       "      <th>1</th>\n",
       "      <td>2</td>\n",
       "      <td>2.0</td>\n",
       "    </tr>\n",
       "    <tr>\n",
       "      <th>2</th>\n",
       "      <td>1</td>\n",
       "      <td>1.0</td>\n",
       "    </tr>\n",
       "    <tr>\n",
       "      <th>3</th>\n",
       "      <td>1</td>\n",
       "      <td>1.0</td>\n",
       "    </tr>\n",
       "    <tr>\n",
       "      <th>4</th>\n",
       "      <td>3</td>\n",
       "      <td>3.0</td>\n",
       "    </tr>\n",
       "    <tr>\n",
       "      <th>...</th>\n",
       "      <td>...</td>\n",
       "      <td>...</td>\n",
       "    </tr>\n",
       "    <tr>\n",
       "      <th>9910</th>\n",
       "      <td>2</td>\n",
       "      <td>2.0</td>\n",
       "    </tr>\n",
       "    <tr>\n",
       "      <th>9911</th>\n",
       "      <td>1</td>\n",
       "      <td>1.0</td>\n",
       "    </tr>\n",
       "    <tr>\n",
       "      <th>9912</th>\n",
       "      <td>2</td>\n",
       "      <td>2.0</td>\n",
       "    </tr>\n",
       "    <tr>\n",
       "      <th>9913</th>\n",
       "      <td>3</td>\n",
       "      <td>3.0</td>\n",
       "    </tr>\n",
       "    <tr>\n",
       "      <th>9914</th>\n",
       "      <td>3</td>\n",
       "      <td>3.0</td>\n",
       "    </tr>\n",
       "  </tbody>\n",
       "</table>\n",
       "<p>9915 rows × 2 columns</p>\n",
       "</div>"
      ],
      "text/plain": [
       "      size_to_number    a\n",
       "0                  2  2.0\n",
       "1                  2  2.0\n",
       "2                  1  1.0\n",
       "3                  1  1.0\n",
       "4                  3  3.0\n",
       "...              ...  ...\n",
       "9910               2  2.0\n",
       "9911               1  1.0\n",
       "9912               2  2.0\n",
       "9913               3  3.0\n",
       "9914               3  3.0\n",
       "\n",
       "[9915 rows x 2 columns]"
      ]
     },
     "execution_count": 263,
     "metadata": {},
     "output_type": "execute_result"
    }
   ],
   "source": [
    "#all this process was in order to have a excel to drop the dataframe of the Random forest prediction into a file that tableau can read\n",
    "\n",
    "pred1 = np.array([pred])\n",
    "\n",
    "transposed_array = pred1.T\n",
    "y_test1 = y_test.reset_index()\n",
    "\n",
    "df_from_array = pd.DataFrame(transposed_array, columns= [\"a\"])\n",
    "\n",
    "concatenated_df = pd.concat([y_test1, df_from_array], axis=1)\n",
    "\n",
    "concatenated_df = concatenated_df.drop(columns = \"index\")\n",
    "\n",
    "concatenated_df"
   ]
  },
  {
   "cell_type": "code",
   "execution_count": 265,
   "id": "90d5756a-561b-4dd1-beed-58f8a6abad21",
   "metadata": {},
   "outputs": [],
   "source": [
    "concatenated_df.to_excel(\"RF scatter_size.xlsx\")"
   ]
  },
  {
   "cell_type": "code",
   "execution_count": 264,
   "id": "1c305747-8852-4f4f-935b-f6d864921ca7",
   "metadata": {},
   "outputs": [
    {
     "data": {
      "image/png": "[encoded data removed]",
      "text/plain": [
       "<Figure size 640x480 with 1 Axes>"
      ]
     },
     "metadata": {},
     "output_type": "display_data"
    }
   ],
   "source": [
    "sns.scatterplot(x=y_test, y=pred);"
   ]
  },
  {
   "cell_type": "code",
   "execution_count": 175,
   "id": "254d2a41-170e-4a82-b2cf-47c56ff3d661",
   "metadata": {},
   "outputs": [
    {
     "name": "stdout",
     "output_type": "stream",
     "text": [
      "MAE 5.714614854679435\n",
      "RMSE 7.550558587519727\n",
      "R2 score 0.3456598102578998\n"
     ]
    }
   ],
   "source": [
    "#AdaBoost\n",
    "\n",
    "ada_reg = AdaBoostRegressor(DecisionTreeRegressor(max_depth=10),\n",
    "                            n_estimators=40)\n",
    "\n",
    "ada_reg.fit(X_train_norm, y_train)\n",
    "\n",
    "pred = ada_reg.predict(X_test_norm)\n",
    "\n",
    "print(\"MAE\", mean_absolute_error(pred, y_test))\n",
    "print(\"RMSE\", mean_squared_error(pred, y_test, squared=False))\n",
    "print(\"R2 score\", ada_reg.score(X_test_norm, y_test))"
   ]
  },
  {
   "cell_type": "code",
   "execution_count": 176,
   "id": "40f33c3f-61d3-40fa-9532-a80fe86839e0",
   "metadata": {},
   "outputs": [
    {
     "data": {
      "image/png": "[encoded data removed]",
      "text/plain": [
       "<Figure size 640x480 with 1 Axes>"
      ]
     },
     "metadata": {},
     "output_type": "display_data"
    }
   ],
   "source": [
    "sns.scatterplot(x=y_test, y=pred);"
   ]
  },
  {
   "cell_type": "code",
   "execution_count": 177,
   "id": "78b817de-dc5b-4710-8878-da6f6acb8a3d",
   "metadata": {},
   "outputs": [
    {
     "name": "stdout",
     "output_type": "stream",
     "text": [
      "MAE 5.4640856038888606\n",
      "RMSE 7.458996509002732\n",
      "R2 score 0.3614333401920694\n"
     ]
    }
   ],
   "source": [
    "#Gradient boosting\n",
    "\n",
    "gb_reg = GradientBoostingRegressor(max_depth=10,\n",
    "                                   n_estimators=40)\n",
    "\n",
    "gb_reg.fit(X_train_norm, y_train)\n",
    "\n",
    "pred = gb_reg.predict(X_test_norm)\n",
    "\n",
    "print(\"MAE\", mean_absolute_error(pred, y_test))\n",
    "print(\"RMSE\", mean_squared_error(pred, y_test, squared=False))\n",
    "print(\"R2 score\", gb_reg.score(X_test_norm, y_test))"
   ]
  },
  {
   "cell_type": "code",
   "execution_count": 109,
   "id": "1ab0fc53-f432-4794-95f7-c09b5e9acbe7",
   "metadata": {},
   "outputs": [
    {
     "data": {
      "image/png": "[encoded data removed]",
      "text/plain": [
       "<Figure size 640x480 with 1 Axes>"
      ]
     },
     "metadata": {},
     "output_type": "display_data"
    }
   ],
   "source": [
    "sns.scatterplot(x=y_test, y=pred);"
   ]
  },
  {
   "cell_type": "code",
   "execution_count": 110,
   "id": "0c5f8d6d-4bd1-49cf-b695-e4d9a96245f3",
   "metadata": {},
   "outputs": [],
   "source": [
    "#grid search\n",
    "\n",
    "grid = {\"max_leaf_nodes\": [20, 40, 60],\n",
    "        \"max_depth\":[8, 10, 12]}\n",
    "\n",
    "dt = DecisionTreeRegressor()\n",
    "\n",
    "model = GridSearchCV(estimator = dt, param_grid = grid, cv=5, verbose=10) # The \"cv\" option here is used to provide the desired number of folds K.\n",
    "\n"
   ]
  },
  {
   "cell_type": "code",
   "execution_count": 111,
   "id": "19416f9f-a925-4bcd-9b0b-4c73de12f4c7",
   "metadata": {
    "scrolled": true
   },
   "outputs": [
    {
     "name": "stdout",
     "output_type": "stream",
     "text": [
      "Fitting 5 folds for each of 9 candidates, totalling 45 fits\n",
      "[CV 1/5; 1/9] START max_depth=8, max_leaf_nodes=20..............................\n",
      "[CV 1/5; 1/9] END max_depth=8, max_leaf_nodes=20;, score=0.293 total time=   0.0s\n",
      "[CV 2/5; 1/9] START max_depth=8, max_leaf_nodes=20..............................\n",
      "[CV 2/5; 1/9] END max_depth=8, max_leaf_nodes=20;, score=0.330 total time=   0.0s\n",
      "[CV 3/5; 1/9] START max_depth=8, max_leaf_nodes=20..............................\n",
      "[CV 3/5; 1/9] END max_depth=8, max_leaf_nodes=20;, score=0.343 total time=   0.0s\n",
      "[CV 4/5; 1/9] START max_depth=8, max_leaf_nodes=20..............................\n",
      "[CV 4/5; 1/9] END max_depth=8, max_leaf_nodes=20;, score=0.318 total time=   0.0s\n",
      "[CV 5/5; 1/9] START max_depth=8, max_leaf_nodes=20..............................\n",
      "[CV 5/5; 1/9] END max_depth=8, max_leaf_nodes=20;, score=0.322 total time=   0.0s\n",
      "[CV 1/5; 2/9] START max_depth=8, max_leaf_nodes=40..............................\n",
      "[CV 1/5; 2/9] END max_depth=8, max_leaf_nodes=40;, score=0.304 total time=   0.0s\n",
      "[CV 2/5; 2/9] START max_depth=8, max_leaf_nodes=40..............................\n",
      "[CV 2/5; 2/9] END max_depth=8, max_leaf_nodes=40;, score=0.344 total time=   0.0s\n",
      "[CV 3/5; 2/9] START max_depth=8, max_leaf_nodes=40..............................\n",
      "[CV 3/5; 2/9] END max_depth=8, max_leaf_nodes=40;, score=0.357 total time=   0.0s\n",
      "[CV 4/5; 2/9] START max_depth=8, max_leaf_nodes=40..............................\n",
      "[CV 4/5; 2/9] END max_depth=8, max_leaf_nodes=40;, score=0.334 total time=   0.0s\n",
      "[CV 5/5; 2/9] START max_depth=8, max_leaf_nodes=40..............................\n",
      "[CV 5/5; 2/9] END max_depth=8, max_leaf_nodes=40;, score=0.336 total time=   0.0s\n",
      "[CV 1/5; 3/9] START max_depth=8, max_leaf_nodes=60..............................\n",
      "[CV 1/5; 3/9] END max_depth=8, max_leaf_nodes=60;, score=0.304 total time=   0.0s\n",
      "[CV 2/5; 3/9] START max_depth=8, max_leaf_nodes=60..............................\n",
      "[CV 2/5; 3/9] END max_depth=8, max_leaf_nodes=60;, score=0.343 total time=   0.0s\n",
      "[CV 3/5; 3/9] START max_depth=8, max_leaf_nodes=60..............................\n",
      "[CV 3/5; 3/9] END max_depth=8, max_leaf_nodes=60;, score=0.357 total time=   0.0s\n",
      "[CV 4/5; 3/9] START max_depth=8, max_leaf_nodes=60..............................\n",
      "[CV 4/5; 3/9] END max_depth=8, max_leaf_nodes=60;, score=0.334 total time=   0.0s\n",
      "[CV 5/5; 3/9] START max_depth=8, max_leaf_nodes=60..............................\n",
      "[CV 5/5; 3/9] END max_depth=8, max_leaf_nodes=60;, score=0.336 total time=   0.0s\n",
      "[CV 1/5; 4/9] START max_depth=10, max_leaf_nodes=20.............................\n",
      "[CV 1/5; 4/9] END max_depth=10, max_leaf_nodes=20;, score=0.296 total time=   0.0s\n",
      "[CV 2/5; 4/9] START max_depth=10, max_leaf_nodes=20.............................\n",
      "[CV 2/5; 4/9] END max_depth=10, max_leaf_nodes=20;, score=0.332 total time=   0.0s\n",
      "[CV 3/5; 4/9] START max_depth=10, max_leaf_nodes=20.............................\n",
      "[CV 3/5; 4/9] END max_depth=10, max_leaf_nodes=20;, score=0.344 total time=   0.0s\n",
      "[CV 4/5; 4/9] START max_depth=10, max_leaf_nodes=20.............................\n",
      "[CV 4/5; 4/9] END max_depth=10, max_leaf_nodes=20;, score=0.321 total time=   0.0s\n",
      "[CV 5/5; 4/9] START max_depth=10, max_leaf_nodes=20.............................\n",
      "[CV 5/5; 4/9] END max_depth=10, max_leaf_nodes=20;, score=0.327 total time=   0.0s\n",
      "[CV 1/5; 5/9] START max_depth=10, max_leaf_nodes=40.............................\n",
      "[CV 1/5; 5/9] END max_depth=10, max_leaf_nodes=40;, score=0.318 total time=   0.0s\n",
      "[CV 2/5; 5/9] START max_depth=10, max_leaf_nodes=40.............................\n",
      "[CV 2/5; 5/9] END max_depth=10, max_leaf_nodes=40;, score=0.355 total time=   0.0s\n",
      "[CV 3/5; 5/9] START max_depth=10, max_leaf_nodes=40.............................\n",
      "[CV 3/5; 5/9] END max_depth=10, max_leaf_nodes=40;, score=0.369 total time=   0.0s\n",
      "[CV 4/5; 5/9] START max_depth=10, max_leaf_nodes=40.............................\n",
      "[CV 4/5; 5/9] END max_depth=10, max_leaf_nodes=40;, score=0.347 total time=   0.0s\n",
      "[CV 5/5; 5/9] START max_depth=10, max_leaf_nodes=40.............................\n",
      "[CV 5/5; 5/9] END max_depth=10, max_leaf_nodes=40;, score=0.350 total time=   0.0s\n",
      "[CV 1/5; 6/9] START max_depth=10, max_leaf_nodes=60.............................\n",
      "[CV 1/5; 6/9] END max_depth=10, max_leaf_nodes=60;, score=0.316 total time=   0.0s\n",
      "[CV 2/5; 6/9] START max_depth=10, max_leaf_nodes=60.............................\n",
      "[CV 2/5; 6/9] END max_depth=10, max_leaf_nodes=60;, score=0.354 total time=   0.0s\n",
      "[CV 3/5; 6/9] START max_depth=10, max_leaf_nodes=60.............................\n",
      "[CV 3/5; 6/9] END max_depth=10, max_leaf_nodes=60;, score=0.368 total time=   0.0s\n",
      "[CV 4/5; 6/9] START max_depth=10, max_leaf_nodes=60.............................\n",
      "[CV 4/5; 6/9] END max_depth=10, max_leaf_nodes=60;, score=0.347 total time=   0.0s\n",
      "[CV 5/5; 6/9] START max_depth=10, max_leaf_nodes=60.............................\n",
      "[CV 5/5; 6/9] END max_depth=10, max_leaf_nodes=60;, score=0.349 total time=   0.0s\n",
      "[CV 1/5; 7/9] START max_depth=12, max_leaf_nodes=20.............................\n",
      "[CV 1/5; 7/9] END max_depth=12, max_leaf_nodes=20;, score=0.296 total time=   0.0s\n",
      "[CV 2/5; 7/9] START max_depth=12, max_leaf_nodes=20.............................\n",
      "[CV 2/5; 7/9] END max_depth=12, max_leaf_nodes=20;, score=0.332 total time=   0.0s\n",
      "[CV 3/5; 7/9] START max_depth=12, max_leaf_nodes=20.............................\n",
      "[CV 3/5; 7/9] END max_depth=12, max_leaf_nodes=20;, score=0.344 total time=   0.0s\n",
      "[CV 4/5; 7/9] START max_depth=12, max_leaf_nodes=20.............................\n",
      "[CV 4/5; 7/9] END max_depth=12, max_leaf_nodes=20;, score=0.321 total time=   0.0s\n",
      "[CV 5/5; 7/9] START max_depth=12, max_leaf_nodes=20.............................\n",
      "[CV 5/5; 7/9] END max_depth=12, max_leaf_nodes=20;, score=0.327 total time=   0.0s\n",
      "[CV 1/5; 8/9] START max_depth=12, max_leaf_nodes=40.............................\n",
      "[CV 1/5; 8/9] END max_depth=12, max_leaf_nodes=40;, score=0.318 total time=   0.0s\n",
      "[CV 2/5; 8/9] START max_depth=12, max_leaf_nodes=40.............................\n",
      "[CV 2/5; 8/9] END max_depth=12, max_leaf_nodes=40;, score=0.355 total time=   0.0s\n",
      "[CV 3/5; 8/9] START max_depth=12, max_leaf_nodes=40.............................\n",
      "[CV 3/5; 8/9] END max_depth=12, max_leaf_nodes=40;, score=0.369 total time=   0.0s\n",
      "[CV 4/5; 8/9] START max_depth=12, max_leaf_nodes=40.............................\n",
      "[CV 4/5; 8/9] END max_depth=12, max_leaf_nodes=40;, score=0.347 total time=   0.0s\n",
      "[CV 5/5; 8/9] START max_depth=12, max_leaf_nodes=40.............................\n",
      "[CV 5/5; 8/9] END max_depth=12, max_leaf_nodes=40;, score=0.350 total time=   0.0s\n",
      "[CV 1/5; 9/9] START max_depth=12, max_leaf_nodes=60.............................\n",
      "[CV 1/5; 9/9] END max_depth=12, max_leaf_nodes=60;, score=0.315 total time=   0.0s\n",
      "[CV 2/5; 9/9] START max_depth=12, max_leaf_nodes=60.............................\n",
      "[CV 2/5; 9/9] END max_depth=12, max_leaf_nodes=60;, score=0.354 total time=   0.0s\n",
      "[CV 3/5; 9/9] START max_depth=12, max_leaf_nodes=60.............................\n",
      "[CV 3/5; 9/9] END max_depth=12, max_leaf_nodes=60;, score=0.368 total time=   0.0s\n",
      "[CV 4/5; 9/9] START max_depth=12, max_leaf_nodes=60.............................\n",
      "[CV 4/5; 9/9] END max_depth=12, max_leaf_nodes=60;, score=0.346 total time=   0.0s\n",
      "[CV 5/5; 9/9] START max_depth=12, max_leaf_nodes=60.............................\n",
      "[CV 5/5; 9/9] END max_depth=12, max_leaf_nodes=60;, score=0.349 total time=   0.0s\n"
     ]
    },
    {
     "data": {
      "text/html": [
       "<style>#sk-container-id-6 {color: black;background-color: white;}#sk-container-id-6 pre{padding: 0;}#sk-container-id-6 div.sk-toggleable {background-color: white;}#sk-container-id-6 label.sk-toggleable__label {cursor: pointer;display: block;width: 100%;margin-bottom: 0;padding: 0.3em;box-sizing: border-box;text-align: center;}#sk-container-id-6 label.sk-toggleable__label-arrow:before {content: \"▸\";float: left;margin-right: 0.25em;color: #696969;}#sk-container-id-6 label.sk-toggleable__label-arrow:hover:before {color: black;}#sk-container-id-6 div.sk-estimator:hover label.sk-toggleable__label-arrow:before {color: black;}#sk-container-id-6 div.sk-toggleable__content {max-height: 0;max-width: 0;overflow: hidden;text-align: left;background-color: #f0f8ff;}#sk-container-id-6 div.sk-toggleable__content pre {margin: 0.2em;color: black;border-radius: 0.25em;background-color: #f0f8ff;}#sk-container-id-6 input.sk-toggleable__control:checked~div.sk-toggleable__content {max-height: 200px;max-width: 100%;overflow: auto;}#sk-container-id-6 input.sk-toggleable__control:checked~label.sk-toggleable__label-arrow:before {content: \"▾\";}#sk-container-id-6 div.sk-estimator input.sk-toggleable__control:checked~label.sk-toggleable__label {background-color: #d4ebff;}#sk-container-id-6 div.sk-label input.sk-toggleable__control:checked~label.sk-toggleable__label {background-color: #d4ebff;}#sk-container-id-6 input.sk-hidden--visually {border: 0;clip: rect(1px 1px 1px 1px);clip: rect(1px, 1px, 1px, 1px);height: 1px;margin: -1px;overflow: hidden;padding: 0;position: absolute;width: 1px;}#sk-container-id-6 div.sk-estimator {font-family: monospace;background-color: #f0f8ff;border: 1px dotted black;border-radius: 0.25em;box-sizing: border-box;margin-bottom: 0.5em;}#sk-container-id-6 div.sk-estimator:hover {background-color: #d4ebff;}#sk-container-id-6 div.sk-parallel-item::after {content: \"\";width: 100%;border-bottom: 1px solid gray;flex-grow: 1;}#sk-container-id-6 div.sk-label:hover label.sk-toggleable__label {background-color: #d4ebff;}#sk-container-id-6 div.sk-serial::before {content: \"\";position: absolute;border-left: 1px solid gray;box-sizing: border-box;top: 0;bottom: 0;left: 50%;z-index: 0;}#sk-container-id-6 div.sk-serial {display: flex;flex-direction: column;align-items: center;background-color: white;padding-right: 0.2em;padding-left: 0.2em;position: relative;}#sk-container-id-6 div.sk-item {position: relative;z-index: 1;}#sk-container-id-6 div.sk-parallel {display: flex;align-items: stretch;justify-content: center;background-color: white;position: relative;}#sk-container-id-6 div.sk-item::before, #sk-container-id-6 div.sk-parallel-item::before {content: \"\";position: absolute;border-left: 1px solid gray;box-sizing: border-box;top: 0;bottom: 0;left: 50%;z-index: -1;}#sk-container-id-6 div.sk-parallel-item {display: flex;flex-direction: column;z-index: 1;position: relative;background-color: white;}#sk-container-id-6 div.sk-parallel-item:first-child::after {align-self: flex-end;width: 50%;}#sk-container-id-6 div.sk-parallel-item:last-child::after {align-self: flex-start;width: 50%;}#sk-container-id-6 div.sk-parallel-item:only-child::after {width: 0;}#sk-container-id-6 div.sk-dashed-wrapped {border: 1px dashed gray;margin: 0 0.4em 0.5em 0.4em;box-sizing: border-box;padding-bottom: 0.4em;background-color: white;}#sk-container-id-6 div.sk-label label {font-family: monospace;font-weight: bold;display: inline-block;line-height: 1.2em;}#sk-container-id-6 div.sk-label-container {text-align: center;}#sk-container-id-6 div.sk-container {/* jupyter's `normalize.less` sets `[hidden] { display: none; }` but bootstrap.min.css set `[hidden] { display: none !important; }` so we also need the `!important` here to be able to override the default hidden behavior on the sphinx rendered scikit-learn.org. See: https://github.com/scikit-learn/scikit-learn/issues/21755 */display: inline-block !important;position: relative;}#sk-container-id-6 div.sk-text-repr-fallback {display: none;}</style><div id=\"sk-container-id-6\" class=\"sk-top-container\"><div class=\"sk-text-repr-fallback\"><pre>GridSearchCV(cv=5, estimator=DecisionTreeRegressor(),\n",
       "             param_grid={&#x27;max_depth&#x27;: [8, 10, 12],\n",
       "                         &#x27;max_leaf_nodes&#x27;: [20, 40, 60]},\n",
       "             verbose=10)</pre><b>In a Jupyter environment, please rerun this cell to show the HTML representation or trust the notebook. <br />On GitHub, the HTML representation is unable to render, please try loading this page with nbviewer.org.</b></div><div class=\"sk-container\" hidden><div class=\"sk-item sk-dashed-wrapped\"><div class=\"sk-label-container\"><div class=\"sk-label sk-toggleable\"><input class=\"sk-toggleable__control sk-hidden--visually\" id=\"sk-estimator-id-16\" type=\"checkbox\" ><label for=\"sk-estimator-id-16\" class=\"sk-toggleable__label sk-toggleable__label-arrow\">GridSearchCV</label><div class=\"sk-toggleable__content\"><pre>GridSearchCV(cv=5, estimator=DecisionTreeRegressor(),\n",
       "             param_grid={&#x27;max_depth&#x27;: [8, 10, 12],\n",
       "                         &#x27;max_leaf_nodes&#x27;: [20, 40, 60]},\n",
       "             verbose=10)</pre></div></div></div><div class=\"sk-parallel\"><div class=\"sk-parallel-item\"><div class=\"sk-item\"><div class=\"sk-label-container\"><div class=\"sk-label sk-toggleable\"><input class=\"sk-toggleable__control sk-hidden--visually\" id=\"sk-estimator-id-17\" type=\"checkbox\" ><label for=\"sk-estimator-id-17\" class=\"sk-toggleable__label sk-toggleable__label-arrow\">estimator: DecisionTreeRegressor</label><div class=\"sk-toggleable__content\"><pre>DecisionTreeRegressor()</pre></div></div></div><div class=\"sk-serial\"><div class=\"sk-item\"><div class=\"sk-estimator sk-toggleable\"><input class=\"sk-toggleable__control sk-hidden--visually\" id=\"sk-estimator-id-18\" type=\"checkbox\" ><label for=\"sk-estimator-id-18\" class=\"sk-toggleable__label sk-toggleable__label-arrow\">DecisionTreeRegressor</label><div class=\"sk-toggleable__content\"><pre>DecisionTreeRegressor()</pre></div></div></div></div></div></div></div></div></div></div>"
      ],
      "text/plain": [
       "GridSearchCV(cv=5, estimator=DecisionTreeRegressor(),\n",
       "             param_grid={'max_depth': [8, 10, 12],\n",
       "                         'max_leaf_nodes': [20, 40, 60]},\n",
       "             verbose=10)"
      ]
     },
     "execution_count": 111,
     "metadata": {},
     "output_type": "execute_result"
    }
   ],
   "source": [
    "model.fit(X_train_norm, y_train)"
   ]
  },
  {
   "cell_type": "code",
   "execution_count": 112,
   "id": "33f94a4b-0198-470c-913e-03e248beb0dd",
   "metadata": {},
   "outputs": [
    {
     "data": {
      "text/plain": [
       "{'max_depth': 10, 'max_leaf_nodes': 40}"
      ]
     },
     "execution_count": 112,
     "metadata": {},
     "output_type": "execute_result"
    }
   ],
   "source": [
    "model.best_params_"
   ]
  },
  {
   "cell_type": "code",
   "execution_count": 113,
   "id": "25801b83-6ba4-43a9-a33a-82e9c3ee598c",
   "metadata": {},
   "outputs": [
    {
     "name": "stdout",
     "output_type": "stream",
     "text": [
      "MAE:  5.43\n",
      "RMSE:  7.46\n",
      "R2 score:   0.36\n"
     ]
    }
   ],
   "source": [
    "best_model = model.best_estimator_\n",
    "\n",
    "pred = best_model.predict(X_test_norm)\n",
    "\n",
    "print(f\"MAE: {mean_absolute_error(pred, y_test): .2f}\")\n",
    "print(f\"RMSE: {mean_squared_error(pred, y_test, squared=False): .2f}\")\n",
    "print(f\"R2 score:  {best_model.score(X_test_norm, y_test): .2f}\")"
   ]
  },
  {
   "cell_type": "code",
   "execution_count": 26,
   "id": "2ece49e5-887d-483d-939a-e535ed2c37c4",
   "metadata": {},
   "outputs": [],
   "source": [
    "#Another point of view using the one hot encoder in the categorical columns\n",
    "df2 = df.copy()\n",
    "df2 = df2.drop(columns = [\"time\", \"weekday nº\"])\n",
    "df2 = df2.drop(columns = [\"id\"])\n",
    "features = df2.drop(columns = [\"name\"])\n",
    "target = df2[\"name\"]"
   ]
  },
  {
   "cell_type": "code",
   "execution_count": 27,
   "id": "5aaa38b2-e1d1-46b0-ae87-b112f3490a7d",
   "metadata": {},
   "outputs": [],
   "source": [
    "X_train, X_test, y_train, y_test = train_test_split(features, target, test_size=0.20, random_state=0)"
   ]
  },
  {
   "cell_type": "code",
   "execution_count": 28,
   "id": "fee9dc30-52c5-4484-a55d-947fcc5d3b12",
   "metadata": {},
   "outputs": [],
   "source": [
    "ohe = OneHotEncoder(sparse_output=False)\n",
    "\n",
    "ohe.fit(X_train)\n",
    "X_train_trans_np = ohe.transform(X_train)\n",
    "X_test_trans_np = ohe.transform(X_test)"
   ]
  },
  {
   "cell_type": "code",
   "execution_count": 29,
   "id": "ef639957-8733-4cae-bea1-630a684bc9a9",
   "metadata": {},
   "outputs": [],
   "source": [
    "X_train_trans_df = pd.DataFrame(X_train_trans_np, columns=ohe.get_feature_names_out(), index=X_train.index)"
   ]
  },
  {
   "cell_type": "code",
   "execution_count": 30,
   "id": "989b669c-4ab8-41c1-83a3-15ba4ce56f48",
   "metadata": {},
   "outputs": [],
   "source": [
    "X_test_trans_df = pd.DataFrame(X_test_trans_np, columns=ohe.get_feature_names_out(), index=X_test.index)"
   ]
  },
  {
   "cell_type": "code",
   "execution_count": 33,
   "id": "d9d07462-2949-4791-b403-d4de03e29964",
   "metadata": {},
   "outputs": [
    {
     "name": "stdout",
     "output_type": "stream",
     "text": [
      "The R2 of the model on the test set for name is:  0.48\n"
     ]
    }
   ],
   "source": [
    "knn = KNeighborsClassifier()\n",
    "\n",
    "knn.fit(X_train_trans_df, y_train)\n",
    "print(f\"The R2 of the model on the test set for name is: {knn.score(X_train_trans_df, y_train): .2f}\")"
   ]
  }
 ],
 "metadata": {
  "kernelspec": {
   "display_name": "Python 3 (ipykernel)",
   "language": "python",
   "name": "python3"
  },
  "language_info": {
   "codemirror_mode": {
    "name": "ipython",
    "version": 3
   },
   "file_extension": ".py",
   "mimetype": "text/x-python",
   "name": "python",
   "nbconvert_exporter": "python",
   "pygments_lexer": "ipython3",
   "version": "3.11.7"
  }
 },
 "nbformat": 4,
 "nbformat_minor": 5
}
